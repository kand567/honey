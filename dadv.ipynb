{
 "cells": [
  {
   "cell_type": "code",
   "execution_count": 1,
   "id": "744011e4-e844-4c97-a0ec-38b9d822be74",
   "metadata": {},
   "outputs": [],
   "source": [
    "#implement data wrangling on a dataset\n",
    "import pandas as pd"
   ]
  },
  {
   "cell_type": "code",
   "execution_count": 2,
   "id": "5de9949f-7880-4b5a-bc88-454c15a503a2",
   "metadata": {},
   "outputs": [
    {
     "data": {
      "text/plain": [
       "'C:\\\\Users\\\\Akash Mishra\\\\PycharmProjects\\\\Essen.tech.prat'"
      ]
     },
     "execution_count": 2,
     "metadata": {},
     "output_type": "execute_result"
    }
   ],
   "source": [
    "pwd\n"
   ]
  },
  {
   "cell_type": "code",
   "execution_count": 3,
   "id": "57475c2e-f772-4044-bfee-0c21f5df3ad9",
   "metadata": {},
   "outputs": [
    {
     "data": {
      "text/html": [
       "<div>\n",
       "<style scoped>\n",
       "    .dataframe tbody tr th:only-of-type {\n",
       "        vertical-align: middle;\n",
       "    }\n",
       "\n",
       "    .dataframe tbody tr th {\n",
       "        vertical-align: top;\n",
       "    }\n",
       "\n",
       "    .dataframe thead th {\n",
       "        text-align: right;\n",
       "    }\n",
       "</style>\n",
       "<table border=\"1\" class=\"dataframe\">\n",
       "  <thead>\n",
       "    <tr style=\"text-align: right;\">\n",
       "      <th></th>\n",
       "      <th>a</th>\n",
       "      <th>b</th>\n",
       "      <th>c</th>\n",
       "      <th>d</th>\n",
       "      <th>message</th>\n",
       "    </tr>\n",
       "  </thead>\n",
       "  <tbody>\n",
       "    <tr>\n",
       "      <th>0</th>\n",
       "      <td>1</td>\n",
       "      <td>2</td>\n",
       "      <td>3</td>\n",
       "      <td>4</td>\n",
       "      <td>hello</td>\n",
       "    </tr>\n",
       "    <tr>\n",
       "      <th>1</th>\n",
       "      <td>5</td>\n",
       "      <td>6</td>\n",
       "      <td>7</td>\n",
       "      <td>8</td>\n",
       "      <td>akash</td>\n",
       "    </tr>\n",
       "    <tr>\n",
       "      <th>2</th>\n",
       "      <td>9</td>\n",
       "      <td>10</td>\n",
       "      <td>11</td>\n",
       "      <td>12</td>\n",
       "      <td>welldone</td>\n",
       "    </tr>\n",
       "  </tbody>\n",
       "</table>\n",
       "</div>"
      ],
      "text/plain": [
       "   a   b   c   d   message\n",
       "0  1   2   3   4     hello\n",
       "1  5   6   7   8     akash\n",
       "2  9  10  11  12  welldone"
      ]
     },
     "execution_count": 3,
     "metadata": {},
     "output_type": "execute_result"
    }
   ],
   "source": [
    "df=pd.read_csv(\"exl.csv\")\n",
    "df"
   ]
  },
  {
   "cell_type": "code",
   "execution_count": 4,
   "id": "44e6439f-af22-4678-a3e9-8626fdc87696",
   "metadata": {},
   "outputs": [
    {
     "data": {
      "text/html": [
       "<div>\n",
       "<style scoped>\n",
       "    .dataframe tbody tr th:only-of-type {\n",
       "        vertical-align: middle;\n",
       "    }\n",
       "\n",
       "    .dataframe tbody tr th {\n",
       "        vertical-align: top;\n",
       "    }\n",
       "\n",
       "    .dataframe thead th {\n",
       "        text-align: right;\n",
       "    }\n",
       "</style>\n",
       "<table border=\"1\" class=\"dataframe\">\n",
       "  <thead>\n",
       "    <tr style=\"text-align: right;\">\n",
       "      <th></th>\n",
       "      <th>a</th>\n",
       "      <th>b</th>\n",
       "      <th>c</th>\n",
       "      <th>d</th>\n",
       "      <th>message</th>\n",
       "    </tr>\n",
       "  </thead>\n",
       "  <tbody>\n",
       "    <tr>\n",
       "      <th>0</th>\n",
       "      <td>1</td>\n",
       "      <td>2</td>\n",
       "      <td>3</td>\n",
       "      <td>4</td>\n",
       "      <td>hello</td>\n",
       "    </tr>\n",
       "    <tr>\n",
       "      <th>1</th>\n",
       "      <td>5</td>\n",
       "      <td>6</td>\n",
       "      <td>7</td>\n",
       "      <td>8</td>\n",
       "      <td>akash</td>\n",
       "    </tr>\n",
       "    <tr>\n",
       "      <th>2</th>\n",
       "      <td>9</td>\n",
       "      <td>10</td>\n",
       "      <td>11</td>\n",
       "      <td>12</td>\n",
       "      <td>welldone</td>\n",
       "    </tr>\n",
       "  </tbody>\n",
       "</table>\n",
       "</div>"
      ],
      "text/plain": [
       "   a   b   c   d   message\n",
       "0  1   2   3   4     hello\n",
       "1  5   6   7   8     akash\n",
       "2  9  10  11  12  welldone"
      ]
     },
     "execution_count": 4,
     "metadata": {},
     "output_type": "execute_result"
    }
   ],
   "source": [
    "df2=pd.read_table(\"exl.csv\",sep=',')\n",
    "df2"
   ]
  },
  {
   "cell_type": "code",
   "execution_count": 7,
   "id": "6d1ff1fa-db4a-4d1b-ac9f-4bbf2a2ad287",
   "metadata": {},
   "outputs": [
    {
     "data": {
      "text/plain": [
       "['                     a                      b\\n',\n",
       " 'aaaa             -0.343434              -0.78544\\n',\n",
       " 'bbbb              8.343421               9.56754\\n',\n",
       " 'cccc             -9.876543              -0.76765\\n',\n",
       " 'dddd              1.3345566              5.678910']"
      ]
     },
     "execution_count": 7,
     "metadata": {},
     "output_type": "execute_result"
    }
   ],
   "source": [
    "list(open( \"ex2.txt\"))"
   ]
  },
  {
   "cell_type": "code",
   "execution_count": 13,
   "id": "b9dae7ec-2ca9-4d8e-8d50-d6495e0543df",
   "metadata": {},
   "outputs": [
    {
     "data": {
      "text/html": [
       "<div>\n",
       "<style scoped>\n",
       "    .dataframe tbody tr th:only-of-type {\n",
       "        vertical-align: middle;\n",
       "    }\n",
       "\n",
       "    .dataframe tbody tr th {\n",
       "        vertical-align: top;\n",
       "    }\n",
       "\n",
       "    .dataframe thead th {\n",
       "        text-align: right;\n",
       "    }\n",
       "</style>\n",
       "<table border=\"1\" class=\"dataframe\">\n",
       "  <thead>\n",
       "    <tr style=\"text-align: right;\">\n",
       "      <th></th>\n",
       "      <th>a</th>\n",
       "      <th>b</th>\n",
       "    </tr>\n",
       "  </thead>\n",
       "  <tbody>\n",
       "    <tr>\n",
       "      <th>aaaa</th>\n",
       "      <td>-0.343434</td>\n",
       "      <td>-0.78544</td>\n",
       "    </tr>\n",
       "    <tr>\n",
       "      <th>bbbb</th>\n",
       "      <td>8.343421</td>\n",
       "      <td>9.56754</td>\n",
       "    </tr>\n",
       "    <tr>\n",
       "      <th>cccc</th>\n",
       "      <td>-9.876543</td>\n",
       "      <td>-0.76765</td>\n",
       "    </tr>\n",
       "    <tr>\n",
       "      <th>dddd</th>\n",
       "      <td>1.334557</td>\n",
       "      <td>5.67891</td>\n",
       "    </tr>\n",
       "  </tbody>\n",
       "</table>\n",
       "</div>"
      ],
      "text/plain": [
       "             a        b\n",
       "aaaa -0.343434 -0.78544\n",
       "bbbb  8.343421  9.56754\n",
       "cccc -9.876543 -0.76765\n",
       "dddd  1.334557  5.67891"
      ]
     },
     "execution_count": 13,
     "metadata": {},
     "output_type": "execute_result"
    }
   ],
   "source": [
    "result=pd.read_table(\"ex2.txt\",sep='\\s+')\n",
    "result"
   ]
  },
  {
   "cell_type": "code",
   "execution_count": 15,
   "id": "469ecefb-9774-4171-a285-bd54b7ca39af",
   "metadata": {},
   "outputs": [
    {
     "data": {
      "text/plain": [
       "'akash,abhishek,anchal'"
      ]
     },
     "execution_count": 15,
     "metadata": {},
     "output_type": "execute_result"
    }
   ],
   "source": [
    "#demonstrate the handling of missing data and string manipulation\n",
    "#string manipulation\n",
    "val='akash,abhishek,anchal'\n",
    "val"
   ]
  },
  {
   "cell_type": "code",
   "execution_count": 17,
   "id": "29a38e04-bc01-4eab-9ac8-7f2a593a51ba",
   "metadata": {},
   "outputs": [
    {
     "data": {
      "text/plain": [
       "['akash', 'abhishek', 'anchal']"
      ]
     },
     "execution_count": 17,
     "metadata": {},
     "output_type": "execute_result"
    }
   ],
   "source": [
    "val.split(',')"
   ]
  },
  {
   "cell_type": "code",
   "execution_count": 18,
   "id": "0cca8f3d-8958-4c6c-984a-dcde8b5cee1b",
   "metadata": {},
   "outputs": [],
   "source": [
    "splitOutput=val.split(',')"
   ]
  },
  {
   "cell_type": "code",
   "execution_count": 19,
   "id": "dd06d897-230a-4a06-a65a-d665358ccaef",
   "metadata": {},
   "outputs": [
    {
     "data": {
      "text/plain": [
       "'akash,abhishek,anchal'"
      ]
     },
     "execution_count": 19,
     "metadata": {},
     "output_type": "execute_result"
    }
   ],
   "source": [
    "val"
   ]
  },
  {
   "cell_type": "code",
   "execution_count": 20,
   "id": "cfd0fc40-0032-43ea-a12c-f284f5ef69a6",
   "metadata": {},
   "outputs": [
    {
     "data": {
      "text/plain": [
       "['akash', 'abhishek', 'anchal']"
      ]
     },
     "execution_count": 20,
     "metadata": {},
     "output_type": "execute_result"
    }
   ],
   "source": [
    "splitOutput"
   ]
  },
  {
   "cell_type": "code",
   "execution_count": 29,
   "id": "3ac7f2bf-5944-43a7-8b74-24fe06293ece",
   "metadata": {},
   "outputs": [
    {
     "data": {
      "text/plain": [
       "['akash', 'abhishek', 'anchal']"
      ]
     },
     "execution_count": 29,
     "metadata": {},
     "output_type": "execute_result"
    }
   ],
   "source": [
    "pieces=[x.strip()for x in val.split(',')]\n",
    "places"
   ]
  },
  {
   "cell_type": "code",
   "execution_count": 30,
   "id": "19e5e15c-1a23-44ce-9a16-8e17667ea2df",
   "metadata": {},
   "outputs": [],
   "source": [
    "first,second,third=pieces"
   ]
  },
  {
   "cell_type": "code",
   "execution_count": 31,
   "id": "c72ef20f-55e7-421e-b016-046209fb4859",
   "metadata": {},
   "outputs": [
    {
     "data": {
      "text/plain": [
       "'akash'"
      ]
     },
     "execution_count": 31,
     "metadata": {},
     "output_type": "execute_result"
    }
   ],
   "source": [
    "first"
   ]
  },
  {
   "cell_type": "code",
   "execution_count": 32,
   "id": "e6a9567d-f020-4d60-ae03-08e3a130434c",
   "metadata": {},
   "outputs": [
    {
     "data": {
      "text/plain": [
       "'abhishek'"
      ]
     },
     "execution_count": 32,
     "metadata": {},
     "output_type": "execute_result"
    }
   ],
   "source": [
    "second"
   ]
  },
  {
   "cell_type": "code",
   "execution_count": 33,
   "id": "83710a32-16b5-461c-a527-e338a9a3464a",
   "metadata": {},
   "outputs": [
    {
     "data": {
      "text/plain": [
       "'anchal'"
      ]
     },
     "execution_count": 33,
     "metadata": {},
     "output_type": "execute_result"
    }
   ],
   "source": [
    "third"
   ]
  },
  {
   "cell_type": "code",
   "execution_count": 35,
   "id": "0c877b24-3bad-4eb8-ae62-ca704146184a",
   "metadata": {},
   "outputs": [
    {
     "data": {
      "text/plain": [
       "'akash::abhishek::anchal'"
      ]
     },
     "execution_count": 35,
     "metadata": {},
     "output_type": "execute_result"
    }
   ],
   "source": [
    "'::'.join(pieces)"
   ]
  },
  {
   "cell_type": "code",
   "execution_count": 36,
   "id": "340e167b-9564-4a94-b658-63a44ddf71ff",
   "metadata": {},
   "outputs": [
    {
     "data": {
      "text/plain": [
       "'akash,abhishek,anchal'"
      ]
     },
     "execution_count": 36,
     "metadata": {},
     "output_type": "execute_result"
    }
   ],
   "source": [
    "val"
   ]
  },
  {
   "cell_type": "code",
   "execution_count": 37,
   "id": "42118bbe-2bfb-4916-9414-f03d9181e624",
   "metadata": {},
   "outputs": [
    {
     "data": {
      "text/plain": [
       "'akash::abhishek::anchal'"
      ]
     },
     "execution_count": 37,
     "metadata": {},
     "output_type": "execute_result"
    }
   ],
   "source": [
    "val.replace(',','::')"
   ]
  },
  {
   "cell_type": "code",
   "execution_count": 38,
   "id": "55124e3a-fee1-4b05-9757-73d7e7b5da30",
   "metadata": {},
   "outputs": [],
   "source": [
    "#implement  the code to interact with web apis(2.1)get,post,put,delete.\n",
    "#perform web scrapping\n",
    "#interacting with web ui(2.1)\n",
    "import requests"
   ]
  },
  {
   "cell_type": "code",
   "execution_count": 40,
   "id": "69ad3b63-eb39-4b42-bc54-74216d3f308c",
   "metadata": {},
   "outputs": [
    {
     "data": {
      "text/plain": [
       "'https://dummyjason.com/products'"
      ]
     },
     "execution_count": 40,
     "metadata": {},
     "output_type": "execute_result"
    }
   ],
   "source": [
    "url='https://dummyjason.com/products'\n",
    "url"
   ]
  },
  {
   "cell_type": "code",
   "execution_count": 42,
   "id": "e23fce92-af0c-400a-b24c-4cc36c00a070",
   "metadata": {},
   "outputs": [
    {
     "data": {
      "text/plain": [
       "<Response [436]>"
      ]
     },
     "execution_count": 42,
     "metadata": {},
     "output_type": "execute_result"
    }
   ],
   "source": [
    "resp=requests.get(url)\n",
    "resp"
   ]
  },
  {
   "cell_type": "code",
   "execution_count": 48,
   "id": "78d331cc-6e44-4573-b161-1fa76f796e55",
   "metadata": {},
   "outputs": [
    {
     "data": {
      "text/plain": [
       "<Response [436]>"
      ]
     },
     "execution_count": 48,
     "metadata": {},
     "output_type": "execute_result"
    }
   ],
   "source": [
    "resp=requests.get(url)\n",
    "resp                 "
   ]
  },
  {
   "cell_type": "code",
   "execution_count": 52,
   "id": "c84ab59a-fb11-434c-9d6a-3413434e79b4",
   "metadata": {},
   "outputs": [
    {
     "ename": "AttributeError",
     "evalue": "'Response' object has no attribute 'Json'",
     "output_type": "error",
     "traceback": [
      "\u001b[1;31m---------------------------------------------------------------------------\u001b[0m",
      "\u001b[1;31mAttributeError\u001b[0m                            Traceback (most recent call last)",
      "Cell \u001b[1;32mIn[52], line 1\u001b[0m\n\u001b[1;32m----> 1\u001b[0m data\u001b[38;5;241m=\u001b[39m\u001b[43mresp\u001b[49m\u001b[38;5;241;43m.\u001b[39;49m\u001b[43mJson\u001b[49m()\n\u001b[0;32m      2\u001b[0m data\n",
      "\u001b[1;31mAttributeError\u001b[0m: 'Response' object has no attribute 'Json'"
     ]
    }
   ],
   "source": [
    "data=resp.json()\n",
    "data"
   ]
  },
  {
   "cell_type": "code",
   "execution_count": null,
   "id": "3dc9ac8e-40c6-43fc-aed7-0aafcb5cd0dc",
   "metadata": {},
   "outputs": [],
   "source": [
    "#interacting with databases"
   ]
  },
  {
   "cell_type": "code",
   "execution_count": 54,
   "id": "73f645e8-4e11-498f-a7dc-08d173be2897",
   "metadata": {},
   "outputs": [],
   "source": [
    "import sqlite3"
   ]
  },
  {
   "cell_type": "code",
   "execution_count": 60,
   "id": "a88b3ee0-0385-4a97-b09c-cecd3d19fb5a",
   "metadata": {},
   "outputs": [],
   "source": [
    "query = \"\"\" \n",
    ".....: CREATE TABLE test \n",
    ".....: (firstName VARCHAR(20), lastName VARCHAR(20), \n",
    ".....: rnumber REAL, inumber INTEGER \n",
    ".....: );\"\"\"\n"
   ]
  },
  {
   "cell_type": "markdown",
   "id": "1d93623e-27ab-4afe-95ab-522c880d05dd",
   "metadata": {},
   "source": [
    "## "
   ]
  },
  {
   "cell_type": "code",
   "execution_count": 61,
   "id": "33b2f8fd-0762-44ad-a97a-ba5785500278",
   "metadata": {},
   "outputs": [],
   "source": [
    "con=sqlite3.connect('mydata.sqlite')"
   ]
  },
  {
   "cell_type": "code",
   "execution_count": 62,
   "id": "9cf40910-ac68-457e-9198-af1d00750a51",
   "metadata": {},
   "outputs": [
    {
     "data": {
      "text/plain": [
       "<sqlite3.Cursor at 0x1de71144b40>"
      ]
     },
     "execution_count": 62,
     "metadata": {},
     "output_type": "execute_result"
    }
   ],
   "source": [
    "con.execute(query)"
   ]
  },
  {
   "cell_type": "code",
   "execution_count": 63,
   "id": "8fdada8a-4c96-4bd3-adc0-0ae53e555b7b",
   "metadata": {},
   "outputs": [],
   "source": [
    "con.commit()"
   ]
  },
  {
   "cell_type": "code",
   "execution_count": 65,
   "id": "16253c23-80fb-442b-8ad1-1942d6ebf376",
   "metadata": {},
   "outputs": [],
   "source": [
    "data=[('akash','mishra',4.65,6),\n",
    "      ('abhi','kumar',5.12,8),\n",
    "      ('golu','tiw',9.98,9)]"
   ]
  },
  {
   "cell_type": "code",
   "execution_count": 66,
   "id": "b3d568da-0d9a-4194-ae9b-7812c95d6395",
   "metadata": {},
   "outputs": [],
   "source": [
    "stmt=\"INSERT INTO test VALUES(?,?,?,?)\""
   ]
  },
  {
   "cell_type": "code",
   "execution_count": 67,
   "id": "2105f3ee-4c97-4274-ac70-2bb9a7842174",
   "metadata": {},
   "outputs": [
    {
     "data": {
      "text/plain": [
       "<sqlite3.Cursor at 0x1de71059540>"
      ]
     },
     "execution_count": 67,
     "metadata": {},
     "output_type": "execute_result"
    }
   ],
   "source": [
    "con.executemany(stmt,data)"
   ]
  },
  {
   "cell_type": "code",
   "execution_count": 68,
   "id": "444f35e5-db24-42e4-9ded-40063dca5cd7",
   "metadata": {},
   "outputs": [],
   "source": [
    "con.commit()"
   ]
  },
  {
   "cell_type": "code",
   "execution_count": 72,
   "id": "5cd5fe66-442d-41a7-939f-75900b45e101",
   "metadata": {},
   "outputs": [],
   "source": [
    "cursor=con.execute('select * from test')"
   ]
  },
  {
   "cell_type": "code",
   "execution_count": 73,
   "id": "9acfede4-70cc-4d28-a629-b39d344f1e12",
   "metadata": {},
   "outputs": [
    {
     "data": {
      "text/plain": [
       "[('akash', 'mishra', 4.65, 6),\n",
       " ('abhi', 'kumar', 5.12, 8),\n",
       " ('golu', 'tiw', 9.98, 9)]"
      ]
     },
     "execution_count": 73,
     "metadata": {},
     "output_type": "execute_result"
    }
   ],
   "source": [
    "rows=cursor.fetchall()\n",
    "rows"
   ]
  },
  {
   "cell_type": "code",
   "execution_count": 76,
   "id": "776a2ebc-1777-4d8f-a44e-7dc86d746b87",
   "metadata": {},
   "outputs": [],
   "source": [
    "#perform data cleaning and preparation\n",
    "import pandas as pd \n",
    "import numpy as np"
   ]
  },
  {
   "cell_type": "code",
   "execution_count": 77,
   "id": "8fb4aa60-f603-4284-ac6d-5764fa96efad",
   "metadata": {},
   "outputs": [
    {
     "data": {
      "text/plain": [
       "0    akash\n",
       "1    virat\n",
       "2      NaN\n",
       "3    rohit\n",
       "4    shami\n",
       "5     gill\n",
       "dtype: object"
      ]
     },
     "execution_count": 77,
     "metadata": {},
     "output_type": "execute_result"
    }
   ],
   "source": [
    "#perform data cleaning and preparation\n",
    "string_data=pd.Series(['akash','virat',np.nan,'rohit','shami','gill'])\n",
    "string_data"
   ]
  },
  {
   "cell_type": "code",
   "execution_count": null,
   "id": "3fb459a1-9406-496a-9408-1f0764d5750e",
   "metadata": {},
   "outputs": [],
   "source": []
  },
  {
   "cell_type": "code",
   "execution_count": null,
   "id": "f5a04555-0203-4d9c-9569-511ad2289fd3",
   "metadata": {},
   "outputs": [],
   "source": []
  },
  {
   "cell_type": "code",
   "execution_count": null,
   "id": "4ec414a1-a720-4743-be4f-68914e8b8eb5",
   "metadata": {},
   "outputs": [],
   "source": []
  }
 ],
 "metadata": {
  "kernelspec": {
   "display_name": "Python 3 (ipykernel)",
   "language": "python",
   "name": "python3"
  },
  "language_info": {
   "codemirror_mode": {
    "name": "ipython",
    "version": 3
   },
   "file_extension": ".py",
   "mimetype": "text/x-python",
   "name": "python",
   "nbconvert_exporter": "python",
   "pygments_lexer": "ipython3",
   "version": "3.10.5"
  }
 },
 "nbformat": 4,
 "nbformat_minor": 5
}
